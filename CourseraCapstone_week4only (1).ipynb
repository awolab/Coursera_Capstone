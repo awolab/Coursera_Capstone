{
 "cells": [
  {
   "cell_type": "markdown",
   "metadata": {
    "collapsed": true
   },
   "source": [
    "# Capstone Project Notebook\n",
    "\n",
    "Week 4"
   ]
  },
  {
   "cell_type": "markdown",
   "metadata": {},
   "source": [
    "# Venues Data Analysis of Etobicoke"
   ]
  },
  {
   "cell_type": "markdown",
   "metadata": {},
   "source": [
    "# A. Introduction/Business Problem\n",
    "\n",
    "## A.1. A description of the problem and a discussion of the background. \n",
    "\n",
    "\n",
    "As a resident of Great Toronto Area, I decided to focus my analyisis on Etobicoke, a municipality amalgamated into the city of Toronto, with a great investment potential, due to proximity to downtown Toronto, an international centre of business, finance, arts, and culture. \n",
    "\n",
    "Toronto is recognized as one of the most multicultural and cosmopolitan cities in the world. it is the most populous city in Canada and the fourth most populous city in North America[1], what makes Etobicoke attractive is a fact that it has the lowest population density of the former cities and boroughs that make up the city of Toronto. This is mainly due to its expanses of industrial lands along the various expressways. The residential areas are primarily single-family dwellings, although several large multi-storey high-rise condominium developments have been built recently.  \n",
    "\n",
    "My analysis leverages Foursquare, to find out what are the most common venues in specific neighbourhoods, what kind of venues are underrepresented. Combined with other data provided by City Planning 2016 Census Profile Ward 03 Etobicoke-Lakeshore, this information will guide a group of future investors where and what kind of venue to open in Etobicoke. \n"
   ]
  },
  {
   "cell_type": "markdown",
   "metadata": {},
   "source": [
    "## A.2. A description of the data and how it will be used to solve the problem. \n",
    "\n",
    "Other datasets in combination with the Foursquare location data:\n",
    "\n",
    "[2] List of postal codes of Canada, located within the city of Toronto in the province of Ontario:\n",
    "https://en.wikipedia.org/w/index.php?title=List_of_postal_codes_of_Canada:_M&oldid=1011037969\n",
    "\n",
    "[3] The csv file link (https://cocl.us/Geospatial_data) that has the latitude and longitude corresponding to each postalcode.\n",
    "\n",
    "[4] City Planning 2016 Census Profile 2018 Ward Profile Ward03 Etobicoke-Lakeshore\n",
    "https://www.toronto.ca/wp-content/uploads/2018/09/96e3-City_Planning_2016_Census_Profile_2018_25Wards_Ward03.pdf\n",
    "\n",
    "I will combine postal codes, neighbourhoods and borough names into Pandas dataframe, to leverage Forsquare API to explore the Etobicoke boroughs - segment them and to get the most common venues.\n",
    "\n",
    "I will use folium library to visualize geographic details of Toronto and Etobicoke boroughs.\n",
    "\n",
    "K-Means algorithm is one of the most common cluster method of unsupervised learning. I will use K-Means algorithm for my study in this project.\n"
   ]
  }
 ],
 "metadata": {
  "kernelspec": {
   "display_name": "Python 3.7",
   "language": "python",
   "name": "python3"
  },
  "language_info": {
   "codemirror_mode": {
    "name": "ipython",
    "version": 3
   },
   "file_extension": ".py",
   "mimetype": "text/x-python",
   "name": "python",
   "nbconvert_exporter": "python",
   "pygments_lexer": "ipython3",
   "version": "3.7.10"
  }
 },
 "nbformat": 4,
 "nbformat_minor": 1
}
